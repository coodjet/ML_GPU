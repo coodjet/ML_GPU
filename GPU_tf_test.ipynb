{
 "cells": [
  {
   "cell_type": "code",
   "execution_count": 2,
   "metadata": {},
   "outputs": [
    {
     "data": {
      "text/plain": [
       "'Darwin'"
      ]
     },
     "execution_count": 2,
     "metadata": {},
     "output_type": "execute_result"
    }
   ],
   "source": [
    "# Sanity-check that we are indeed running this notebook from Ubuntu\n",
    "import platform\n",
    "platform.system()"
   ]
  },
  {
   "cell_type": "code",
   "execution_count": 3,
   "metadata": {},
   "outputs": [
    {
     "data": {
      "text/plain": [
       "[]"
      ]
     },
     "execution_count": 3,
     "metadata": {},
     "output_type": "execute_result"
    }
   ],
   "source": [
    "import tensorflow as tf\n",
    "tf.config.list_physical_devices('GPU')"
   ]
  },
  {
   "cell_type": "code",
   "execution_count": 4,
   "metadata": {},
   "outputs": [
    {
     "data": {
      "text/plain": [
       "[PhysicalDevice(name='/physical_device:CPU:0', device_type='CPU')]"
      ]
     },
     "execution_count": 4,
     "metadata": {},
     "output_type": "execute_result"
    }
   ],
   "source": [
    "tf.config.list_physical_devices('CPU')"
   ]
  },
  {
   "cell_type": "code",
   "execution_count": 4,
   "metadata": {},
   "outputs": [
    {
     "name": "stdout",
     "output_type": "stream",
     "text": [
      "Executing op MatMul in device /job:localhost/replica:0/task:0/device:GPU:0\n",
      "tf.Tensor(\n",
      "[[22. 28.]\n",
      " [49. 64.]], shape=(2, 2), dtype=float32)\n"
     ]
    }
   ],
   "source": [
    "tf.debugging.set_log_device_placement(True)\n",
    "\n",
    "# Place tensors on the CPU\n",
    "with tf.device('/CPU:0'):\n",
    "  a = tf.constant([[1.0, 2.0, 3.0], [4.0, 5.0, 6.0]])\n",
    "  b = tf.constant([[1.0, 2.0], [3.0, 4.0], [5.0, 6.0]])\n",
    "\n",
    "c = tf.matmul(a, b)\n",
    "print(c)"
   ]
  },
  {
   "cell_type": "code",
   "execution_count": 4,
   "metadata": {},
   "outputs": [
    {
     "name": "stdout",
     "output_type": "stream",
     "text": [
      "Executing op MatMul in device /job:localhost/replica:0/task:0/device:GPU:0\n",
      "tf.Tensor(\n",
      "[[22. 28.]\n",
      " [49. 64.]], shape=(2, 2), dtype=float32)\n"
     ]
    }
   ],
   "source": [
    "tf.debugging.set_log_device_placement(True)\n",
    "\n",
    "# Place tensors on the CPU\n",
    "with tf.device('/GPU:0'):\n",
    "  a = tf.constant([[1.0, 2.0, 3.0], [4.0, 5.0, 6.0]])\n",
    "  b = tf.constant([[1.0, 2.0], [3.0, 4.0], [5.0, 6.0]])\n",
    "\n",
    "c = tf.matmul(a, b)\n",
    "print(c)"
   ]
  },
  {
   "cell_type": "code",
   "execution_count": 5,
   "metadata": {},
   "outputs": [],
   "source": [
    "# import scipy"
   ]
  },
  {
   "cell_type": "code",
   "execution_count": 6,
   "metadata": {},
   "outputs": [],
   "source": [
    "# import sys\n",
    "# !{sys.executable} -m pip list"
   ]
  },
  {
   "cell_type": "code",
   "execution_count": 8,
   "metadata": {},
   "outputs": [
    {
     "ename": "AttributeError",
     "evalue": "module 'tensorflow' has no attribute 'ConfigProto'",
     "output_type": "error",
     "traceback": [
      "\u001b[0;31m---------------------------------------------------------------------------\u001b[0m",
      "\u001b[0;31mAttributeError\u001b[0m                            Traceback (most recent call last)",
      "\u001b[0;32m<ipython-input-8-d49cdfb190f7>\u001b[0m in \u001b[0;36m<module>\u001b[0;34m\u001b[0m\n\u001b[0;32m----> 1\u001b[0;31m config = tf.ConfigProto(\n\u001b[0m\u001b[1;32m      2\u001b[0m         \u001b[0mdevice_count\u001b[0m \u001b[0;34m=\u001b[0m \u001b[0;34m{\u001b[0m\u001b[0;34m'GPU'\u001b[0m\u001b[0;34m:\u001b[0m \u001b[0;36m0\u001b[0m\u001b[0;34m}\u001b[0m\u001b[0;34m\u001b[0m\u001b[0;34m\u001b[0m\u001b[0m\n\u001b[1;32m      3\u001b[0m     )\n\u001b[1;32m      4\u001b[0m \u001b[0msess\u001b[0m \u001b[0;34m=\u001b[0m \u001b[0mtf\u001b[0m\u001b[0;34m.\u001b[0m\u001b[0mSession\u001b[0m\u001b[0;34m(\u001b[0m\u001b[0mconfig\u001b[0m\u001b[0;34m=\u001b[0m\u001b[0mconfig\u001b[0m\u001b[0;34m)\u001b[0m\u001b[0;34m\u001b[0m\u001b[0;34m\u001b[0m\u001b[0m\n",
      "\u001b[0;31mAttributeError\u001b[0m: module 'tensorflow' has no attribute 'ConfigProto'"
     ]
    }
   ],
   "source": [
    "config = tf.ConfigProto(\n",
    "        device_count = {'GPU': 0}\n",
    "    )\n",
    "sess = tf.Session(config=config)"
   ]
  },
  {
   "cell_type": "code",
   "execution_count": 5,
   "metadata": {},
   "outputs": [
    {
     "name": "stdout",
     "output_type": "stream",
     "text": [
      "Collecting tensorflow-serving-api\n",
      "  Downloading tensorflow_serving_api-2.2.0-py2.py3-none-any.whl (38 kB)\n",
      "Requirement already satisfied: tensorboard in /usr/local/Cellar/jupyterlab/2.1.4/libexec/lib/python3.8/site-packages (2.2.2)\n",
      "Collecting tensorboard-plugin-profile\n",
      "  Downloading tensorboard_plugin_profile-2.2.0-py3-none-any.whl (1.1 MB)\n",
      "\u001b[K     |████████████████████████████████| 1.1 MB 4.4 MB/s eta 0:00:01\n",
      "\u001b[?25hCollecting tensorflow-datasets\n",
      "  Downloading tensorflow_datasets-3.2.0-py3-none-any.whl (3.4 MB)\n",
      "\u001b[K     |████████████████████████████████| 3.4 MB 5.9 MB/s eta 0:00:01\n",
      "\u001b[?25hCollecting tensorflow-hub\n",
      "  Downloading tensorflow_hub-0.8.0-py2.py3-none-any.whl (101 kB)\n",
      "\u001b[K     |████████████████████████████████| 101 kB 8.0 MB/s ta 0:00:011\n",
      "\u001b[?25hCollecting tensorflow-probability\n",
      "  Downloading tensorflow_probability-0.10.1-py2.py3-none-any.whl (3.5 MB)\n",
      "\u001b[K     |████████████████████████████████| 3.5 MB 25.7 MB/s eta 0:00:01\n",
      "\u001b[?25hRequirement already satisfied: grpcio>=1.0<2 in /usr/local/Cellar/jupyterlab/2.1.4/libexec/lib/python3.8/site-packages (from tensorflow-serving-api) (1.30.0)\n",
      "Requirement already satisfied: protobuf>=3.6.0 in /usr/local/Cellar/jupyterlab/2.1.4/libexec/lib/python3.8/site-packages (from tensorflow-serving-api) (3.12.2)\n",
      "Requirement already satisfied: tensorflow~=2.2.0 in /usr/local/Cellar/jupyterlab/2.1.4/libexec/lib/python3.8/site-packages (from tensorflow-serving-api) (2.2.0)\n",
      "Requirement already satisfied: google-auth<2,>=1.6.3 in /usr/local/Cellar/jupyterlab/2.1.4/libexec/lib/python3.8/site-packages (from tensorboard) (1.18.0)\n",
      "Requirement already satisfied: wheel>=0.26; python_version >= \"3\" in /usr/local/Cellar/jupyterlab/2.1.4/libexec/lib/python3.8/site-packages (from tensorboard) (0.34.2)\n",
      "Requirement already satisfied: tensorboard-plugin-wit>=1.6.0 in /usr/local/Cellar/jupyterlab/2.1.4/libexec/lib/python3.8/site-packages (from tensorboard) (1.7.0)\n",
      "Requirement already satisfied: numpy>=1.12.0 in /usr/local/Cellar/jupyterlab/2.1.4/libexec/lib/python3.8/site-packages (from tensorboard) (1.18.5)\n",
      "Requirement already satisfied: markdown>=2.6.8 in /usr/local/Cellar/jupyterlab/2.1.4/libexec/lib/python3.8/site-packages (from tensorboard) (3.2.2)\n",
      "Requirement already satisfied: absl-py>=0.4 in /usr/local/Cellar/jupyterlab/2.1.4/libexec/lib/python3.8/site-packages (from tensorboard) (0.9.0)\n",
      "Requirement already satisfied: google-auth-oauthlib<0.5,>=0.4.1 in /usr/local/Cellar/jupyterlab/2.1.4/libexec/lib/python3.8/site-packages (from tensorboard) (0.4.1)\n",
      "Requirement already satisfied: requests<3,>=2.21.0 in /usr/local/Cellar/jupyterlab/2.1.4/libexec/lib/python3.8/site-packages (from tensorboard) (2.23.0)\n",
      "Requirement already satisfied: setuptools>=41.0.0 in /usr/local/Cellar/jupyterlab/2.1.4/libexec/lib/python3.8/site-packages (from tensorboard) (47.1.1)\n",
      "Requirement already satisfied: six>=1.10.0 in /usr/local/Cellar/jupyterlab/2.1.4/libexec/lib/python3.8/site-packages (from tensorboard) (1.15.0)\n",
      "Requirement already satisfied: werkzeug>=0.11.15 in /usr/local/Cellar/jupyterlab/2.1.4/libexec/lib/python3.8/site-packages (from tensorboard) (1.0.1)\n",
      "Collecting gviz-api>=1.9.0\n",
      "  Downloading gviz_api-1.9.0-py2.py3-none-any.whl (15 kB)\n",
      "Collecting promise\n",
      "  Downloading promise-2.3.tar.gz (19 kB)\n",
      "Requirement already satisfied: wrapt in /usr/local/Cellar/jupyterlab/2.1.4/libexec/lib/python3.8/site-packages (from tensorflow-datasets) (1.12.1)\n",
      "Collecting tensorflow-metadata\n",
      "  Downloading tensorflow_metadata-0.22.2-py2.py3-none-any.whl (32 kB)\n",
      "Requirement already satisfied: termcolor in /usr/local/Cellar/jupyterlab/2.1.4/libexec/lib/python3.8/site-packages (from tensorflow-datasets) (1.1.0)\n",
      "Requirement already satisfied: attrs>=18.1.0 in /usr/local/Cellar/jupyterlab/2.1.4/libexec/lib/python3.8/site-packages (from tensorflow-datasets) (19.3.0)\n",
      "Requirement already satisfied: tqdm in /usr/local/Cellar/jupyterlab/2.1.4/libexec/lib/python3.8/site-packages (from tensorflow-datasets) (4.47.0)\n",
      "Collecting future\n",
      "  Downloading future-0.18.2.tar.gz (829 kB)\n",
      "\u001b[K     |████████████████████████████████| 829 kB 9.0 MB/s eta 0:00:01\n",
      "\u001b[?25hCollecting dill\n",
      "  Downloading dill-0.3.2.zip (177 kB)\n",
      "\u001b[K     |████████████████████████████████| 177 kB 4.8 MB/s eta 0:00:01\n",
      "\u001b[?25hRequirement already satisfied: gast>=0.3.2 in /usr/local/Cellar/jupyterlab/2.1.4/libexec/lib/python3.8/site-packages (from tensorflow-probability) (0.3.3)\n",
      "Requirement already satisfied: decorator in /usr/local/Cellar/jupyterlab/2.1.4/libexec/lib/python3.8/site-packages (from tensorflow-probability) (4.4.2)\n",
      "Collecting cloudpickle==1.3\n",
      "  Downloading cloudpickle-1.3.0-py2.py3-none-any.whl (26 kB)\n",
      "Requirement already satisfied: h5py<2.11.0,>=2.10.0 in /usr/local/Cellar/jupyterlab/2.1.4/libexec/lib/python3.8/site-packages (from tensorflow~=2.2.0->tensorflow-serving-api) (2.10.0)\n",
      "Requirement already satisfied: google-pasta>=0.1.8 in /usr/local/Cellar/jupyterlab/2.1.4/libexec/lib/python3.8/site-packages (from tensorflow~=2.2.0->tensorflow-serving-api) (0.2.0)\n",
      "Requirement already satisfied: keras-preprocessing>=1.1.0 in /usr/local/Cellar/jupyterlab/2.1.4/libexec/lib/python3.8/site-packages (from tensorflow~=2.2.0->tensorflow-serving-api) (1.1.2)\n",
      "Requirement already satisfied: tensorflow-estimator<2.3.0,>=2.2.0 in /usr/local/Cellar/jupyterlab/2.1.4/libexec/lib/python3.8/site-packages (from tensorflow~=2.2.0->tensorflow-serving-api) (2.2.0)\n",
      "Requirement already satisfied: opt-einsum>=2.3.2 in /usr/local/Cellar/jupyterlab/2.1.4/libexec/lib/python3.8/site-packages (from tensorflow~=2.2.0->tensorflow-serving-api) (3.2.1)\n",
      "Requirement already satisfied: astunparse==1.6.3 in /usr/local/Cellar/jupyterlab/2.1.4/libexec/lib/python3.8/site-packages (from tensorflow~=2.2.0->tensorflow-serving-api) (1.6.3)\n",
      "Requirement already satisfied: scipy==1.4.1; python_version >= \"3\" in /usr/local/Cellar/jupyterlab/2.1.4/libexec/lib/python3.8/site-packages (from tensorflow~=2.2.0->tensorflow-serving-api) (1.4.1)\n",
      "Requirement already satisfied: pyasn1-modules>=0.2.1 in /usr/local/Cellar/jupyterlab/2.1.4/libexec/lib/python3.8/site-packages (from google-auth<2,>=1.6.3->tensorboard) (0.2.8)\n",
      "Requirement already satisfied: rsa<5,>=3.1.4; python_version >= \"3\" in /usr/local/Cellar/jupyterlab/2.1.4/libexec/lib/python3.8/site-packages (from google-auth<2,>=1.6.3->tensorboard) (4.6)\n",
      "Requirement already satisfied: cachetools<5.0,>=2.0.0 in /usr/local/Cellar/jupyterlab/2.1.4/libexec/lib/python3.8/site-packages (from google-auth<2,>=1.6.3->tensorboard) (4.1.1)\n",
      "Requirement already satisfied: requests-oauthlib>=0.7.0 in /usr/local/Cellar/jupyterlab/2.1.4/libexec/lib/python3.8/site-packages (from google-auth-oauthlib<0.5,>=0.4.1->tensorboard) (1.3.0)\n",
      "Requirement already satisfied: chardet<4,>=3.0.2 in /usr/local/Cellar/jupyterlab/2.1.4/libexec/lib/python3.8/site-packages (from requests<3,>=2.21.0->tensorboard) (3.0.4)\n",
      "Requirement already satisfied: idna<3,>=2.5 in /usr/local/Cellar/jupyterlab/2.1.4/libexec/lib/python3.8/site-packages (from requests<3,>=2.21.0->tensorboard) (2.9)\n",
      "Requirement already satisfied: urllib3!=1.25.0,!=1.25.1,<1.26,>=1.21.1 in /usr/local/Cellar/jupyterlab/2.1.4/libexec/lib/python3.8/site-packages (from requests<3,>=2.21.0->tensorboard) (1.25.9)\n",
      "Requirement already satisfied: certifi>=2017.4.17 in /usr/local/Cellar/jupyterlab/2.1.4/libexec/lib/python3.8/site-packages (from requests<3,>=2.21.0->tensorboard) (2020.4.5.1)\n",
      "Collecting googleapis-common-protos\n",
      "  Downloading googleapis_common_protos-1.52.0-py2.py3-none-any.whl (100 kB)\n",
      "\u001b[K     |████████████████████████████████| 100 kB 5.4 MB/s ta 0:00:01\n",
      "\u001b[?25hRequirement already satisfied: pyasn1<0.5.0,>=0.4.6 in /usr/local/Cellar/jupyterlab/2.1.4/libexec/lib/python3.8/site-packages (from pyasn1-modules>=0.2.1->google-auth<2,>=1.6.3->tensorboard) (0.4.8)\n",
      "Requirement already satisfied: oauthlib>=3.0.0 in /usr/local/Cellar/jupyterlab/2.1.4/libexec/lib/python3.8/site-packages (from requests-oauthlib>=0.7.0->google-auth-oauthlib<0.5,>=0.4.1->tensorboard) (3.1.0)\n",
      "Building wheels for collected packages: promise, future, dill\n",
      "  Building wheel for promise (setup.py) ... \u001b[?25ldone\n",
      "\u001b[?25h  Created wheel for promise: filename=promise-2.3-py3-none-any.whl size=21495 sha256=1933ef9ba06004854e2e58bcf0eeeda944a5785a9c04f1d2d776eec47f858645\n",
      "  Stored in directory: /Users/gleb/Library/Caches/pip/wheels/54/aa/01/724885182f93150035a2a91bce34a12877e8067a97baaf5dc8\n",
      "  Building wheel for future (setup.py) ... \u001b[?25ldone\n",
      "\u001b[?25h  Created wheel for future: filename=future-0.18.2-py3-none-any.whl size=491058 sha256=c47e461aa49cd1c66ddc932ed9001e0a14f125d635483040d328ce8d486acdbe\n",
      "  Stored in directory: /Users/gleb/Library/Caches/pip/wheels/8e/70/28/3d6ccd6e315f65f245da085482a2e1c7d14b90b30f239e2cf4\n",
      "  Building wheel for dill (setup.py) ... \u001b[?25ldone\n",
      "\u001b[?25h  Created wheel for dill: filename=dill-0.3.2-py3-none-any.whl size=78912 sha256=ea38375ee1f4aa96beda80e6e5afa24a877d382b9150eada52c7f43135ded29f\n",
      "  Stored in directory: /Users/gleb/Library/Caches/pip/wheels/93/7f/7d/78ec535a4340ef2696aad8b17fe8bb063d56301bd62881b069\n",
      "Successfully built promise future dill\n",
      "Installing collected packages: tensorflow-serving-api, gviz-api, tensorboard-plugin-profile, promise, googleapis-common-protos, tensorflow-metadata, future, dill, tensorflow-datasets, tensorflow-hub, cloudpickle, tensorflow-probability\n",
      "Successfully installed cloudpickle-1.3.0 dill-0.3.2 future-0.18.2 googleapis-common-protos-1.52.0 gviz-api-1.9.0 promise-2.3 tensorboard-plugin-profile-2.2.0 tensorflow-datasets-3.2.0 tensorflow-hub-0.8.0 tensorflow-metadata-0.22.2 tensorflow-probability-0.10.1 tensorflow-serving-api-2.2.0\n"
     ]
    }
   ],
   "source": [
    "import sys\n",
    "!{sys.executable} -m pip install tensorflow-serving-api tensorboard tensorboard-plugin-profile tensorflow-datasets tensorflow-hub tensorflow-probability"
   ]
  },
  {
   "cell_type": "code",
   "execution_count": 7,
   "metadata": {},
   "outputs": [
    {
     "name": "stdout",
     "output_type": "stream",
     "text": [
      "Collecting atari_py\n",
      "  Downloading atari-py-0.2.6.tar.gz (790 kB)\n",
      "\u001b[K     |████████████████████████████████| 790 kB 1.5 MB/s eta 0:00:01\n",
      "\u001b[?25hRequirement already satisfied: numpy in /usr/local/Cellar/jupyterlab/2.1.4/libexec/lib/python3.8/site-packages (from atari_py) (1.18.5)\n",
      "Requirement already satisfied: six in /usr/local/Cellar/jupyterlab/2.1.4/libexec/lib/python3.8/site-packages (from atari_py) (1.15.0)\n",
      "Building wheels for collected packages: atari-py\n",
      "  Building wheel for atari-py (setup.py) ... \u001b[?25ldone\n",
      "\u001b[?25h  Created wheel for atari-py: filename=atari_py-0.2.6-cp38-cp38-macosx_10_15_x86_64.whl size=2433657 sha256=0a76182a19c7dff9ad7a6ba2cf96fca983990682c96adc9224f9f2fb5993730f\n",
      "  Stored in directory: /Users/gleb/Library/Caches/pip/wheels/7f/5e/27/2e90b9887063d82ee2f9f8b2f8db76bb2290aa281dc40449c8\n",
      "Successfully built atari-py\n",
      "Installing collected packages: atari-py\n",
      "Successfully installed atari-py-0.2.6\n"
     ]
    }
   ],
   "source": [
    "!{sys.executable} -m pip install atari_py"
   ]
  },
  {
   "cell_type": "code",
   "execution_count": 9,
   "metadata": {},
   "outputs": [
    {
     "name": "stdout",
     "output_type": "stream",
     "text": [
      "Collecting imageio\n",
      "  Downloading imageio-2.9.0-py3-none-any.whl (3.3 MB)\n",
      "\u001b[K     |████████████████████████████████| 3.3 MB 1.8 MB/s eta 0:00:01\n",
      "\u001b[?25hCollecting Pillow\n",
      "  Downloading Pillow-7.2.0-cp38-cp38-macosx_10_10_x86_64.whl (2.2 MB)\n",
      "\u001b[K     |████████████████████████████████| 2.2 MB 2.2 MB/s eta 0:00:01\n",
      "\u001b[?25hCollecting scikit-image\n",
      "  Downloading scikit_image-0.17.2-cp38-cp38-macosx_10_13_x86_64.whl (12.2 MB)\n",
      "\u001b[K     |████████████████████████████████| 12.2 MB 9.6 MB/s eta 0:00:01\n",
      "\u001b[?25hCollecting graphviz\n",
      "  Downloading graphviz-0.14.1-py2.py3-none-any.whl (18 kB)\n",
      "Collecting pydot\n",
      "  Downloading pydot-1.4.1-py2.py3-none-any.whl (19 kB)\n",
      "Collecting opencv-python\n",
      "  Downloading opencv_python-4.3.0.36-cp38-cp38-macosx_10_9_x86_64.whl (52.6 MB)\n",
      "\u001b[K     |████████████████████████████████| 52.6 MB 15.2 MB/s eta 0:00:01\n",
      "\u001b[?25hCollecting pyglet\n",
      "  Downloading pyglet-1.5.7-py3-none-any.whl (1.1 MB)\n",
      "\u001b[K     |████████████████████████████████| 1.1 MB 3.1 MB/s eta 0:00:01\n",
      "\u001b[?25hRequirement already satisfied: joblib in /usr/local/Cellar/jupyterlab/2.1.4/libexec/lib/python3.8/site-packages (0.16.0)\n",
      "Requirement already satisfied: requests in /usr/local/Cellar/jupyterlab/2.1.4/libexec/lib/python3.8/site-packages (2.23.0)\n",
      "Requirement already satisfied: nbdime in /usr/local/Cellar/jupyterlab/2.1.4/libexec/lib/python3.8/site-packages (2.0.0)\n",
      "Collecting numexpr\n",
      "  Downloading numexpr-2.7.1-cp38-cp38-macosx_10_9_x86_64.whl (101 kB)\n",
      "\u001b[K     |████████████████████████████████| 101 kB 5.9 MB/s ta 0:00:01\n",
      "\u001b[?25hRequirement already satisfied: numpy in /usr/local/Cellar/jupyterlab/2.1.4/libexec/lib/python3.8/site-packages (from imageio) (1.18.5)\n",
      "Collecting PyWavelets>=1.1.1\n",
      "  Downloading PyWavelets-1.1.1-cp38-cp38-macosx_10_9_x86_64.whl (4.3 MB)\n",
      "\u001b[K     |████████████████████████████████| 4.3 MB 19.1 MB/s eta 0:00:01\n",
      "\u001b[?25hRequirement already satisfied: matplotlib!=3.0.0,>=2.0.0 in /usr/local/Cellar/jupyterlab/2.1.4/libexec/lib/python3.8/site-packages (from scikit-image) (3.2.1)\n",
      "Collecting tifffile>=2019.7.26\n",
      "  Downloading tifffile-2020.7.4-py3-none-any.whl (138 kB)\n",
      "\u001b[K     |████████████████████████████████| 138 kB 66.9 MB/s eta 0:00:01\n",
      "\u001b[?25hCollecting networkx>=2.0\n",
      "  Downloading networkx-2.4-py3-none-any.whl (1.6 MB)\n",
      "\u001b[K     |████████████████████████████████| 1.6 MB 5.3 MB/s eta 0:00:01\n",
      "\u001b[?25hRequirement already satisfied: scipy>=1.0.1 in /usr/local/Cellar/jupyterlab/2.1.4/libexec/lib/python3.8/site-packages (from scikit-image) (1.4.1)\n",
      "Requirement already satisfied: pyparsing>=2.1.4 in /usr/local/Cellar/jupyterlab/2.1.4/libexec/lib/python3.8/site-packages (from pydot) (2.4.7)\n",
      "Requirement already satisfied: chardet<4,>=3.0.2 in /usr/local/Cellar/jupyterlab/2.1.4/libexec/lib/python3.8/site-packages (from requests) (3.0.4)\n",
      "Requirement already satisfied: idna<3,>=2.5 in /usr/local/Cellar/jupyterlab/2.1.4/libexec/lib/python3.8/site-packages (from requests) (2.9)\n",
      "Requirement already satisfied: urllib3!=1.25.0,!=1.25.1,<1.26,>=1.21.1 in /usr/local/Cellar/jupyterlab/2.1.4/libexec/lib/python3.8/site-packages (from requests) (1.25.9)\n",
      "Requirement already satisfied: certifi>=2017.4.17 in /usr/local/Cellar/jupyterlab/2.1.4/libexec/lib/python3.8/site-packages (from requests) (2020.4.5.1)\n",
      "Requirement already satisfied: pygments in /usr/local/Cellar/jupyterlab/2.1.4/libexec/lib/python3.8/site-packages (from nbdime) (2.6.1)\n",
      "Requirement already satisfied: nbformat in /usr/local/Cellar/jupyterlab/2.1.4/libexec/lib/python3.8/site-packages (from nbdime) (5.0.6)\n",
      "Requirement already satisfied: notebook in /usr/local/Cellar/jupyterlab/2.1.4/libexec/lib/python3.8/site-packages (from nbdime) (6.0.3)\n",
      "Requirement already satisfied: jinja2>=2.9 in /usr/local/Cellar/jupyterlab/2.1.4/libexec/lib/python3.8/site-packages (from nbdime) (2.11.2)\n",
      "Requirement already satisfied: GitPython!=2.1.4,!=2.1.5,!=2.1.6 in /usr/local/Cellar/jupyterlab/2.1.4/libexec/lib/python3.8/site-packages (from nbdime) (3.1.7)\n",
      "Requirement already satisfied: tornado in /usr/local/Cellar/jupyterlab/2.1.4/libexec/lib/python3.8/site-packages (from nbdime) (6.0.4)\n",
      "Requirement already satisfied: colorama in /usr/local/Cellar/jupyterlab/2.1.4/libexec/lib/python3.8/site-packages (from nbdime) (0.4.3)\n",
      "Requirement already satisfied: six in /usr/local/Cellar/jupyterlab/2.1.4/libexec/lib/python3.8/site-packages (from nbdime) (1.15.0)\n",
      "Requirement already satisfied: python-dateutil>=2.1 in /usr/local/Cellar/jupyterlab/2.1.4/libexec/lib/python3.8/site-packages (from matplotlib!=3.0.0,>=2.0.0->scikit-image) (2.8.1)\n",
      "Requirement already satisfied: cycler>=0.10 in /usr/local/Cellar/jupyterlab/2.1.4/libexec/lib/python3.8/site-packages (from matplotlib!=3.0.0,>=2.0.0->scikit-image) (0.10.0)\n",
      "Requirement already satisfied: kiwisolver>=1.0.1 in /usr/local/Cellar/jupyterlab/2.1.4/libexec/lib/python3.8/site-packages (from matplotlib!=3.0.0,>=2.0.0->scikit-image) (1.2.0)\n",
      "Requirement already satisfied: decorator>=4.3.0 in /usr/local/Cellar/jupyterlab/2.1.4/libexec/lib/python3.8/site-packages (from networkx>=2.0->scikit-image) (4.4.2)\n",
      "Requirement already satisfied: ipython_genutils in /usr/local/Cellar/jupyterlab/2.1.4/libexec/lib/python3.8/site-packages (from nbformat->nbdime) (0.2.0)\n",
      "Requirement already satisfied: traitlets>=4.1 in /usr/local/Cellar/jupyterlab/2.1.4/libexec/lib/python3.8/site-packages (from nbformat->nbdime) (4.3.3)\n",
      "Requirement already satisfied: jsonschema!=2.5.0,>=2.4 in /usr/local/Cellar/jupyterlab/2.1.4/libexec/lib/python3.8/site-packages (from nbformat->nbdime) (3.2.0)\n",
      "Requirement already satisfied: jupyter_core in /usr/local/Cellar/jupyterlab/2.1.4/libexec/lib/python3.8/site-packages (from nbformat->nbdime) (4.6.3)\n",
      "Requirement already satisfied: pyzmq>=17 in /usr/local/Cellar/jupyterlab/2.1.4/libexec/lib/python3.8/site-packages (from notebook->nbdime) (19.0.1)\n",
      "Requirement already satisfied: jupyter_client>=5.3.4 in /usr/local/Cellar/jupyterlab/2.1.4/libexec/lib/python3.8/site-packages (from notebook->nbdime) (6.1.3)\n",
      "Requirement already satisfied: nbconvert in /usr/local/Cellar/jupyterlab/2.1.4/libexec/lib/python3.8/site-packages (from notebook->nbdime) (5.6.1)\n",
      "Requirement already satisfied: ipykernel in /usr/local/Cellar/jupyterlab/2.1.4/libexec/lib/python3.8/site-packages (from notebook->nbdime) (5.3.0)\n",
      "Requirement already satisfied: Send2Trash in /usr/local/Cellar/jupyterlab/2.1.4/libexec/lib/python3.8/site-packages (from notebook->nbdime) (1.5.0)\n",
      "Requirement already satisfied: terminado>=0.8.1 in /usr/local/Cellar/jupyterlab/2.1.4/libexec/lib/python3.8/site-packages (from notebook->nbdime) (0.8.3)\n",
      "Requirement already satisfied: prometheus_client in /usr/local/Cellar/jupyterlab/2.1.4/libexec/lib/python3.8/site-packages (from notebook->nbdime) (0.8.0)\n",
      "Requirement already satisfied: MarkupSafe>=0.23 in /usr/local/Cellar/jupyterlab/2.1.4/libexec/lib/python3.8/site-packages (from jinja2>=2.9->nbdime) (1.1.1)\n",
      "Requirement already satisfied: gitdb<5,>=4.0.1 in /usr/local/Cellar/jupyterlab/2.1.4/libexec/lib/python3.8/site-packages (from GitPython!=2.1.4,!=2.1.5,!=2.1.6->nbdime) (4.0.5)\n",
      "Requirement already satisfied: setuptools in /usr/local/Cellar/jupyterlab/2.1.4/libexec/lib/python3.8/site-packages (from jsonschema!=2.5.0,>=2.4->nbformat->nbdime) (47.1.1)\n",
      "Requirement already satisfied: attrs>=17.4.0 in /usr/local/Cellar/jupyterlab/2.1.4/libexec/lib/python3.8/site-packages (from jsonschema!=2.5.0,>=2.4->nbformat->nbdime) (19.3.0)\n",
      "Requirement already satisfied: pyrsistent>=0.14.0 in /usr/local/Cellar/jupyterlab/2.1.4/libexec/lib/python3.8/site-packages (from jsonschema!=2.5.0,>=2.4->nbformat->nbdime) (0.16.0)\n",
      "Requirement already satisfied: mistune<2,>=0.8.1 in /usr/local/Cellar/jupyterlab/2.1.4/libexec/lib/python3.8/site-packages (from nbconvert->notebook->nbdime) (0.8.4)\n",
      "Requirement already satisfied: entrypoints>=0.2.2 in /usr/local/Cellar/jupyterlab/2.1.4/libexec/lib/python3.8/site-packages (from nbconvert->notebook->nbdime) (0.3)\n",
      "Requirement already satisfied: bleach in /usr/local/Cellar/jupyterlab/2.1.4/libexec/lib/python3.8/site-packages (from nbconvert->notebook->nbdime) (3.1.5)\n",
      "Requirement already satisfied: pandocfilters>=1.4.1 in /usr/local/Cellar/jupyterlab/2.1.4/libexec/lib/python3.8/site-packages (from nbconvert->notebook->nbdime) (1.4.2)\n",
      "Requirement already satisfied: testpath in /usr/local/Cellar/jupyterlab/2.1.4/libexec/lib/python3.8/site-packages (from nbconvert->notebook->nbdime) (0.4.4)\n",
      "Requirement already satisfied: defusedxml in /usr/local/Cellar/jupyterlab/2.1.4/libexec/lib/python3.8/site-packages (from nbconvert->notebook->nbdime) (0.6.0)\n",
      "Requirement already satisfied: appnope; platform_system == \"Darwin\" in /usr/local/Cellar/jupyterlab/2.1.4/libexec/lib/python3.8/site-packages (from ipykernel->notebook->nbdime) (0.1.0)\n",
      "Requirement already satisfied: ipython>=5.0.0 in /usr/local/Cellar/jupyterlab/2.1.4/libexec/lib/python3.8/site-packages (from ipykernel->notebook->nbdime) (7.15.0)\n",
      "Requirement already satisfied: ptyprocess; os_name != \"nt\" in /usr/local/Cellar/jupyterlab/2.1.4/libexec/lib/python3.8/site-packages (from terminado>=0.8.1->notebook->nbdime) (0.6.0)\n",
      "Requirement already satisfied: smmap<4,>=3.0.1 in /usr/local/Cellar/jupyterlab/2.1.4/libexec/lib/python3.8/site-packages (from gitdb<5,>=4.0.1->GitPython!=2.1.4,!=2.1.5,!=2.1.6->nbdime) (3.0.4)\n",
      "Requirement already satisfied: packaging in /usr/local/Cellar/jupyterlab/2.1.4/libexec/lib/python3.8/site-packages (from bleach->nbconvert->notebook->nbdime) (20.4)\n",
      "Requirement already satisfied: webencodings in /usr/local/Cellar/jupyterlab/2.1.4/libexec/lib/python3.8/site-packages (from bleach->nbconvert->notebook->nbdime) (0.5.1)\n",
      "Requirement already satisfied: jedi>=0.10 in /usr/local/Cellar/jupyterlab/2.1.4/libexec/lib/python3.8/site-packages (from ipython>=5.0.0->ipykernel->notebook->nbdime) (0.17.0)\n",
      "Requirement already satisfied: pickleshare in /usr/local/Cellar/jupyterlab/2.1.4/libexec/lib/python3.8/site-packages (from ipython>=5.0.0->ipykernel->notebook->nbdime) (0.7.5)\n",
      "Requirement already satisfied: prompt_toolkit!=3.0.0,!=3.0.1,<3.1.0,>=2.0.0 in /usr/local/Cellar/jupyterlab/2.1.4/libexec/lib/python3.8/site-packages (from ipython>=5.0.0->ipykernel->notebook->nbdime) (3.0.5)\n",
      "Requirement already satisfied: backcall in /usr/local/Cellar/jupyterlab/2.1.4/libexec/lib/python3.8/site-packages (from ipython>=5.0.0->ipykernel->notebook->nbdime) (0.1.0)\n",
      "Requirement already satisfied: pexpect in /usr/local/Cellar/jupyterlab/2.1.4/libexec/lib/python3.8/site-packages (from ipython>=5.0.0->ipykernel->notebook->nbdime) (4.8.0)\n",
      "Requirement already satisfied: parso>=0.7.0 in /usr/local/Cellar/jupyterlab/2.1.4/libexec/lib/python3.8/site-packages (from jedi>=0.10->ipython>=5.0.0->ipykernel->notebook->nbdime) (0.7.0)\n",
      "Requirement already satisfied: wcwidth in /usr/local/Cellar/jupyterlab/2.1.4/libexec/lib/python3.8/site-packages (from prompt_toolkit!=3.0.0,!=3.0.1,<3.1.0,>=2.0.0->ipython>=5.0.0->ipykernel->notebook->nbdime) (0.1.9)\n",
      "Installing collected packages: Pillow, imageio, PyWavelets, tifffile, networkx, scikit-image, graphviz, pydot, opencv-python, pyglet, numexpr\n",
      "Successfully installed Pillow-7.2.0 PyWavelets-1.1.1 graphviz-0.14.1 imageio-2.9.0 networkx-2.4 numexpr-2.7.1 opencv-python-4.3.0.36 pydot-1.4.1 pyglet-1.5.7 scikit-image-0.17.2 tifffile-2020.7.4\n"
     ]
    }
   ],
   "source": [
    "!{sys.executable} -m pip install imageio Pillow scikit-image graphviz pydot opencv-python pyglet joblib requests nbdime numexpr"
   ]
  },
  {
   "cell_type": "code",
   "execution_count": null,
   "metadata": {},
   "outputs": [],
   "source": []
  }
 ],
 "metadata": {
  "kernelspec": {
   "display_name": "Python 3",
   "language": "python",
   "name": "python3"
  },
  "language_info": {
   "codemirror_mode": {
    "name": "ipython",
    "version": 3
   },
   "file_extension": ".py",
   "mimetype": "text/x-python",
   "name": "python",
   "nbconvert_exporter": "python",
   "pygments_lexer": "ipython3",
   "version": "3.8.3"
  }
 },
 "nbformat": 4,
 "nbformat_minor": 4
}
